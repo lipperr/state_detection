{
 "cells": [
  {
   "cell_type": "code",
   "execution_count": null,
   "id": "fd53cd75",
   "metadata": {
    "pycharm": {
     "is_executing": true
    },
    "scrolled": true
   },
   "outputs": [],
   "source": [
    "from imports import *\n",
    "plt.rc('figure', max_open_warning=200)\n",
    "%matplotlib notebook\n",
    "sns.set_theme()"
   ]
  },
  {
   "cell_type": "markdown",
   "id": "3b469e66",
   "metadata": {},
   "source": [
    "# Loading  preprosessed data"
   ]
  },
  {
   "cell_type": "code",
   "execution_count": null,
   "id": "fddd0691",
   "metadata": {},
   "outputs": [],
   "source": [
    "# Initialize path variables for main folders\n",
    "\n",
    "print(os.getcwd())\n",
    "\n",
    "# Path for saving epoch data and features\n",
    "ft_dir_path = os.path.join(os.getcwd(), 'features')\n",
    "data_dir_path = os.path.join(os.getcwd(), 'word_data')\n"
   ]
  },
  {
   "cell_type": "code",
   "execution_count": null,
   "id": "aa49646c",
   "metadata": {},
   "outputs": [],
   "source": [
    "raw = mne.io.read_raw_fif(data_dir_path + 'reref_filterd_raw.fif', preload=True)\n"
   ]
  },
  {
   "cell_type": "markdown",
   "id": "08bd83bc",
   "metadata": {},
   "source": [
    "# Epoching data"
   ]
  },
  {
   "cell_type": "code",
   "execution_count": null,
   "id": "9acf15ad",
   "metadata": {
    "scrolled": true
   },
   "outputs": [],
   "source": [
    "gc.collect()"
   ]
  },
  {
   "cell_type": "markdown",
   "id": "ac942cfc",
   "metadata": {},
   "source": [
    "## Global variables & filtering"
   ]
  },
  {
   "cell_type": "code",
   "execution_count": null,
   "id": "4d91c339",
   "metadata": {},
   "outputs": [],
   "source": [
    "# Frequency bands\n",
    "\n",
    "bands = [(0.9, 4, 'Delta (0.9-4 Hz)', 'D'), (4, 8, 'Theta (4-8 Hz)', 'T'), (8, 14, 'Alpha (8-14 Hz)', 'A'), \n",
    "         (14, 25, 'Beta (14-25 Hz)', 'B'), (25, 40, 'Gamma (25-40 Hz)', 'G')]\n",
    "\n",
    "str_freq_rr = [bands[i][3] for i in range(len(bands))] #bands names 'D', 'T', 'A', 'B', 'G'\n",
    "n_freq = len(str_freq_rr) # 5"
   ]
  },
  {
   "cell_type": "code",
   "execution_count": null,
   "id": "c123003f",
   "metadata": {},
   "outputs": [],
   "source": [
    "# Localization by scalp regions\n",
    "\n",
    "regions = [(['Fp1','Fp2','Fpz'], 'Fp', 'Pre-frontal'),\n",
    "           (['AF7, AF3','AF4','AF8'], 'AF', 'In-between frontal'),\n",
    "           (['F9','F7','F5','F3','FT9','FT7','FC5','FC3'], 'LF', 'Left Frontal'),\n",
    "           (['F1','Fz','F2','FC1','FCz','FC2'], 'MF', 'Midline Frontal'),\n",
    "           (['F4','F6','F8','F10','FC4','FC6','FT8','FT10'], 'RF', 'Right Frontal'),\n",
    "           (['T7','TP9','TP7'], 'LT', 'Left Temporal'),\n",
    "           (['T8','TP8','TP10'], 'RT', 'Right Temporal'),\n",
    "           (['C5','C3','CP5','CP3'], 'LC', 'Left Central'),\n",
    "           (['C1','Cz','C2','CP1','CPz', 'CP2'], 'MC', 'Midline Central'),\n",
    "           (['C4','C6','CP4','CP6'], 'RC', 'Right Central'),\n",
    "           (['P9','P7','P5','P3'], 'LP', 'Left Parietal'),\n",
    "           (['P1','Pz','P2'], 'MP', 'Midline Parietal'),\n",
    "           (['P4','P6','P8','P10'], 'RP', 'Right Parietal'),\n",
    "           (['PO9','PO7','PO3','O1'], 'LO', 'Left Occipital'),\n",
    "           (['POz','Oz'], 'MO', 'Midline Occipital'),\n",
    "           (['PO4','PO8','PO10','O2'], 'RO', 'Right Occipital')]\n",
    "\n",
    "\n",
    "n_regions = len(regions)\n"
   ]
  },
  {
   "cell_type": "markdown",
   "id": "bc8041d4",
   "metadata": {},
   "source": [
    "## Epoching"
   ]
  },
  {
   "cell_type": "code",
   "execution_count": null,
   "id": "e18b210a",
   "metadata": {},
   "outputs": [],
   "source": [
    "gc.collect()"
   ]
  },
  {
   "cell_type": "code",
   "execution_count": null,
   "id": "dd941d6e",
   "metadata": {
    "scrolled": true
   },
   "outputs": [],
   "source": [
    "# Epochs by fixed length events, duration 5s, overlap 0.2s (re-referenced)\n",
    "\n",
    "sec5_events = mne.make_fixed_length_events(raw, start=0.5, duration=5.)\n",
    "kwargs = dict(baseline=None, tmin=-0.5, tmax=0.5, preload=True)\n",
    "sec5_epochs = mne.Epochs(raw, sec5_events.astype(int), **kwargs)[2:-2]\n",
    "\n"
   ]
  },
  {
   "cell_type": "code",
   "execution_count": null,
   "id": "559c3c43",
   "metadata": {},
   "outputs": [],
   "source": [
    "sec5_epochs.average().plot_joint()\n",
    "print()"
   ]
  },
  {
   "cell_type": "code",
   "execution_count": null,
   "id": "5efad911",
   "metadata": {},
   "outputs": [],
   "source": [
    "# Global variables\n",
    "\n",
    "ch_names = sec5_epochs.ch_names\n",
    "n_freq = len(str_freq_rr)\n",
    "n_channels = len(ch_names)\n",
    "\n",
    "n_samples = sec5_epochs.__len__()\n",
    "n_times = len(sec5_epochs.get_data()[0,0,:])\n",
    "\n",
    "sampling_rate = raw.info['sfreq']"
   ]
  },
  {
   "cell_type": "markdown",
   "id": "d2835e30",
   "metadata": {},
   "source": [
    "# Extract features"
   ]
  },
  {
   "cell_type": "markdown",
   "id": "62c848c2",
   "metadata": {},
   "source": [
    "## PSD features"
   ]
  },
  {
   "cell_type": "code",
   "execution_count": null,
   "id": "2c8c32a0",
   "metadata": {},
   "outputs": [],
   "source": [
    "# Calculating PSD for re-referenced epochs (Multitaper)\n",
    "\n",
    "kwargs = dict(fmin=bands[0][0], fmax=bands[-1][1], sfreq=sampling_rate, bandwidth=None, adaptive=True, n_jobs=1)\n",
    "rr_psd_mtaper, rr_freq_mtaper = psd_array_multitaper(sec5_epochs.get_data(), **kwargs)\n",
    "\n"
   ]
  },
  {
   "cell_type": "code",
   "execution_count": null,
   "id": "53da6bdc",
   "metadata": {},
   "outputs": [],
   "source": [
    "# print(rr_freq_mtaper) # 0.9 - 40\n",
    "# print(rr_psd_mtaper.shape) # (2497, 70, 40)"
   ]
  },
  {
   "cell_type": "code",
   "execution_count": null,
   "id": "942ed280",
   "metadata": {},
   "outputs": [],
   "source": [
    "freq_masks = [(fmin < rr_freq_mtaper) & (rr_freq_mtaper < fmax) for (fmin, fmax, _, _) in bands]\n",
    "loc_masks = [[ch_names[i] in reg for i in range(n_channels)] for (reg, _, _) in regions] # 16 x 70\n",
    "# loc_plt_masks = [[ch_names[i] in reg for i in range(n_channels)] for (reg, _, _) in regions_plt] # 9 x 70\n"
   ]
  },
  {
   "cell_type": "code",
   "execution_count": null,
   "id": "8a0c3a4c",
   "metadata": {},
   "outputs": [],
   "source": [
    "# for each frequency band (2497, 70, 5)\n",
    "ft_psd_spectr_raw = np.array([np.mean(rr_psd_mtaper[:,:, _freq_mask], axis=2) for _freq_mask in freq_masks]).transpose(1,2,0)\n",
    "# for each freq. band + for region (2497, 16, 5)\n",
    "ft_psd_sp_loc_raw = np.array([np.mean(ft_psd_spectr_raw[:,_mask,:], axis=1) for _mask in loc_masks]).transpose(1,0,2)\n",
    "# average among channels by epoch for each band (2497, 5)\n",
    "ft_psd_sp_all_raw = np.mean(ft_psd_spectr_raw, axis=1)\n"
   ]
  },
  {
   "cell_type": "code",
   "execution_count": null,
   "id": "54e5ae46",
   "metadata": {},
   "outputs": [],
   "source": [
    "ft_psd_spectr_db = 10 * np.log10(ft_psd_spectr_raw) # Convert psd to dB format\n",
    "ft_psd_sp_loc_db = 10 * np.log10(ft_psd_sp_loc_raw) # Convert psd to dB \n",
    "ft_psd_sp_all_db = 10 * np.log10(ft_psd_sp_all_raw) # Convert psd to dB format"
   ]
  },
  {
   "cell_type": "code",
   "execution_count": null,
   "id": "45329cf4",
   "metadata": {},
   "outputs": [],
   "source": [
    "\n",
    "df_ft_psd_raw = pd.DataFrame()\n",
    "df_ft_psd_db = pd.DataFrame()\n",
    "\n",
    "df_ft_psd_loc_raw = pd.DataFrame()\n",
    "df_ft_psd_loc_db = pd.DataFrame()\n",
    "\n",
    "df_ft_psd_all_raw = pd.DataFrame()\n",
    "df_ft_psd_all_db = pd.DataFrame()"
   ]
  },
  {
   "cell_type": "code",
   "execution_count": null,
   "id": "22a80998",
   "metadata": {},
   "outputs": [],
   "source": [
    "for i in range(n_freq): # 5\n",
    "    for j in range(n_channels): # 70\n",
    "        df_ft_psd_raw[str_freq_rr[i]+'_psd_'+ch_names[j]] = ft_psd_spectr_raw[:,j,i]\n",
    "        df_ft_psd_db[str_freq_rr[i]+'_psd_'+ch_names[j]] = ft_psd_spectr_db[:,j,i]\n",
    "    for j in range(n_regions):    \n",
    "        df_ft_psd_loc_raw[str_freq_rr[i]+'_psd_'+regions[j][1]] = ft_psd_sp_loc_raw[:,j,i]\n",
    "        df_ft_psd_loc_db[str_freq_rr[i]+'_psd_'+regions[j][1]] = ft_psd_sp_loc_db[:,j,i]\n",
    "    df_ft_psd_all_raw[str_freq_rr[i]+'_psd_All'] = ft_psd_sp_all_raw[:,i]\n",
    "    df_ft_psd_all_db[str_freq_rr[i]+'_psd_All'] = ft_psd_sp_all_db[:,i]\n",
    "\n"
   ]
  },
  {
   "cell_type": "code",
   "execution_count": null,
   "id": "abde37d9",
   "metadata": {},
   "outputs": [],
   "source": [
    "# Scaling dB re-referenced data\n",
    "ft_psd_db_sc = StandardScaler().fit_transform(df_ft_psd_db.to_numpy())\n",
    "df_ft_psd_db_sc = pd.DataFrame(ft_psd_db_sc, columns=df_ft_psd_db.columns)\n",
    "\n",
    "ft_psd_loc_db_sc = StandardScaler().fit_transform(df_ft_psd_loc_db.to_numpy())\n",
    "df_ft_psd_loc_db_sc = pd.DataFrame(ft_psd_loc_db_sc, columns=df_ft_psd_loc_db.columns)\n",
    "\n",
    "ft_psd_all_db_sc = StandardScaler().fit_transform(df_ft_psd_all_db.to_numpy())\n",
    "df_ft_psd_all_db_sc = pd.DataFrame(ft_psd_all_db_sc, columns=df_ft_psd_all_db.columns)"
   ]
  },
  {
   "cell_type": "markdown",
   "id": "9af8df69",
   "metadata": {},
   "source": [
    "## PSD Indices"
   ]
  },
  {
   "cell_type": "code",
   "execution_count": null,
   "id": "2c7b5d00",
   "metadata": {},
   "outputs": [],
   "source": [
    "df_ft_psd_ind = pd.DataFrame()\n",
    "\n",
    "# theta/delta, alpha/delta, alpha/theta, alpha/(delta+theta), \n",
    "# beta/delta, beta/theta, beta/alpha, beta/(delta+theta), \n",
    "# beta/(theta+alpha), gamma/delta, gamma/theta, gamma/alpha, gamma/beta, \n",
    "# gamma/(delta+theta), gamma/(theta+alpha) and gamma /(alpha+beta)\n",
    "str_psd_ind = ['T_D','A_D','A_T','A_DT','B_D','B_T','B_A','B_DT','B_TA','G_D','G_T','G_A','G_B','G_DT','G_TA','G_AB']\n",
    "\n",
    "df_ft_psd_ind_loc = pd.DataFrame()\n",
    "df_ft_psd_ind_all = pd.DataFrame()\n",
    "\n",
    "# Indices per region (averaged PSD)\n",
    "for _r in range(n_regions):\n",
    "    for ind in str_psd_ind:\n",
    "        if (len(ind)==3):\n",
    "            df_ft_psd_ind_loc[ind+'_psd_'+regions[_r][1]] = (df_ft_psd_loc_raw[ind[0]+'_psd_'+regions[_r][1]] / \n",
    "                                                             df_ft_psd_loc_raw[ind[2]+'_psd_'+regions[_r][1]])\n",
    "        elif (len(ind)==4):\n",
    "            df_ft_psd_ind_loc[ind+'_psd_'+regions[_r][1]] = (df_ft_psd_loc_raw[ind[0]+'_psd_'+regions[_r][1]] / \n",
    "                                                            (df_ft_psd_loc_raw[ind[2]+'_psd_'+regions[_r][1]]+\n",
    "                                                             df_ft_psd_loc_raw[ind[3]+'_psd_'+regions[_r][1]]))\n",
    "\n",
    "# Indices for all channels averaged PSD\n",
    "for ind in str_psd_ind:\n",
    "    if (len(ind)==3):\n",
    "        df_ft_psd_ind_all[ind+'_psd_All'] = (df_ft_psd_all_raw[ind[0]+'_psd_All'] / \n",
    "                                             df_ft_psd_all_raw[ind[2]+'_psd_All'])\n",
    "    elif (len(ind)==4):\n",
    "        df_ft_psd_ind_all[ind+'_psd_All'] = (df_ft_psd_all_raw[ind[0]+'_psd_All'] / \n",
    "                                            (df_ft_psd_all_raw[ind[2]+'_psd_All']+\n",
    "                                             df_ft_psd_all_raw[ind[3]+'_psd_All']))\n"
   ]
  },
  {
   "cell_type": "code",
   "execution_count": null,
   "id": "a8ee2a09",
   "metadata": {
    "scrolled": true
   },
   "outputs": [],
   "source": [
    "# Log-scaling PSD indices (dB format)\n",
    "df_ft_psd_ind_loc_log = 10 * np.log10(df_ft_psd_ind_loc)\n",
    "df_ft_psd_ind_all_log = 10 * np.log10(df_ft_psd_ind_all)\n",
    "\n",
    "# Scaling\n",
    "ft_psd_ind_loc_sc = StandardScaler().fit_transform(df_ft_psd_ind_loc_log.to_numpy())\n",
    "df_ft_psd_ind_loc_sc = pd.DataFrame(ft_psd_ind_loc_sc, columns=df_ft_psd_ind_loc_log.columns)\n",
    "\n",
    "ft_psd_ind_all_sc = StandardScaler().fit_transform(df_ft_psd_ind_all_log.to_numpy())\n",
    "df_ft_psd_ind_all_sc = pd.DataFrame(ft_psd_ind_all_sc, columns=df_ft_psd_ind_all_log.columns)\n"
   ]
  },
  {
   "cell_type": "markdown",
   "id": "a367bef5",
   "metadata": {},
   "source": [
    "## Coherence & PLV features"
   ]
  },
  {
   "cell_type": "code",
   "execution_count": null,
   "id": "9d1567c0",
   "metadata": {},
   "outputs": [],
   "source": [
    "# Averaging epochs by region\n",
    "loc_masks = [[ch_names[i] in reg for i in range(n_channels)] for (reg, _, _) in regions]\n",
    "\n",
    "# Re-referenced data\n",
    "ft_epochs = sec5_epochs.get_data()\n",
    "ft_epochs_loc = np.array([np.mean(ft_epochs[:,_mask,:], axis=1) for _mask in loc_masks]).transpose(1,0,2)\n",
    "\n",
    "print(ft_epochs.shape)\n",
    "print(ft_epochs_loc.shape)\n"
   ]
  },
  {
   "cell_type": "code",
   "execution_count": null,
   "id": "993bc6a2",
   "metadata": {
    "scrolled": true
   },
   "outputs": [],
   "source": [
    "# Calculating CSD (Cross-spectral densities), re-referenced data\n",
    "\n",
    "ft_csd_matr_sp = []\n",
    "ft_csd_matr_loc_sp = []\n",
    "kwargs = dict(fmin=bands[0][0], fmax=bands[-1][1], sfreq=sampling_rate, adaptive=True, n_jobs=-1, verbose='DEBUG')\n",
    "\n",
    "# Calculating CSD for each epoch (Multitaper)\n",
    "for i in range(n_samples):\n",
    "    csd_mtaper = csd_array_multitaper(ft_epochs[i].reshape((1, n_channels, n_times)), **kwargs)\n",
    "    ft_csd_matr_sp.append([csd_mtaper.mean(fmin, fmax).get_data() for (fmin, fmax, _, _) in bands])\n",
    "\n",
    "    csd_mtaper = csd_array_multitaper(ft_epochs_loc[i].reshape((1, n_regions, n_times)), **kwargs)\n",
    "    ft_csd_matr_loc_sp.append([csd_mtaper.mean(fmin, fmax).get_data() for (fmin, fmax, _, _) in bands])\n",
    "    print(i)\n",
    "\n",
    "ft_csd_matr_sp = np.array(ft_csd_matr_sp)\n",
    "ft_csd_matr_loc_sp = np.array(ft_csd_matr_loc_sp)\n",
    "\n",
    "print(ft_csd_matr_sp.shape)\n",
    "print(ft_csd_matr_loc_sp.shape)"
   ]
  },
  {
   "cell_type": "markdown",
   "id": "2a69caa6",
   "metadata": {},
   "source": [
    "#### save calculated csd values"
   ]
  },
  {
   "cell_type": "code",
   "execution_count": null,
   "id": "295fd512",
   "metadata": {},
   "outputs": [],
   "source": [
    "# np.save('csd.npy', ft_csd_matr_sp)\n",
    "# np.save('csd_loc.npy', ft_csd_matr_loc_sp)"
   ]
  },
  {
   "cell_type": "markdown",
   "id": "1e307ba9",
   "metadata": {},
   "source": [
    "##### download calculated csd values"
   ]
  },
  {
   "cell_type": "code",
   "execution_count": null,
   "id": "2e048005",
   "metadata": {},
   "outputs": [],
   "source": [
    "# ft_csd_matr_sp = np.load('csd.npy')\n",
    "# ft_csd_matr_loc_sp = np.load('csd_loc.npy')"
   ]
  },
  {
   "cell_type": "code",
   "execution_count": null,
   "id": "7cd997c2",
   "metadata": {},
   "outputs": [],
   "source": [
    "# Calculating Coherence, PLV and PSD from CSD, re-referenced data\n",
    "SLICE_LEN = 3\n",
    "\n",
    "df_ft_coh = pd.DataFrame()\n",
    "df_ft_plv = pd.DataFrame()\n",
    "df_ft_coh_loc = pd.DataFrame()\n",
    "df_ft_plv_loc = pd.DataFrame()\n",
    "\n",
    "for _freq in range(n_freq): # frequency band\n",
    "    # By channel pairs\n",
    "    for i in range(n_channels): # channel\n",
    "        for j in range(i+1, n_channels): #channel\n",
    "            coh_list = []\n",
    "            plv_list = []\n",
    "            for _samp in range(n_samples): #epoch\n",
    "                samp_slice = ft_csd_matr_sp[max(_samp-SLICE_LEN//2, 0):min(_samp+SLICE_LEN//2+SLICE_LEN%2, n_samples), _freq,:,:]\n",
    "                coh = np.abs(np.mean(samp_slice[:,i,j])) / sqrt(np.mean(samp_slice[:,i,i]).real * np.mean(samp_slice[:,j,j]).real)\n",
    "                plv = np.abs(np.mean(samp_slice[:,i,j]/np.abs(samp_slice[:,i,j])))\n",
    "                \n",
    "                coh_list.append(coh)\n",
    "                plv_list.append(plv)\n",
    "                \n",
    "            df_ft_coh[str_freq_rr[_freq]+'_coh_'+ch_names[i]+'_'+ch_names[j]] = np.array(coh_list)\n",
    "            df_ft_plv[str_freq_rr[_freq]+'_plv_'+ch_names[i]+'_'+ch_names[j]] = np.array(plv_list)\n",
    "\n",
    "    # By region pairs\n",
    "    for i in range(n_regions): # region mean\n",
    "        for j in range(i+1, n_regions): # region mean\n",
    "            coh_list = []\n",
    "            plv_list = []\n",
    "            for _samp in range(n_samples): # epoch\n",
    "                samp_slice = ft_csd_matr_loc_sp[_samp:min(_samp+SLICE_LEN, n_samples),_freq,:,:]\n",
    "                coh = np.abs(np.mean(samp_slice[:,i,j])) / sqrt(np.mean(samp_slice[:,i,i]).real * np.mean(samp_slice[:,j,j]).real)\n",
    "                plv = np.abs(np.mean(samp_slice[:,i,j]/np.abs(samp_slice[:,i,j])))\n",
    "                \n",
    "                coh_list.append(coh)\n",
    "                plv_list.append(plv)\n",
    "            df_ft_coh_loc[str_freq_rr[_freq]+'_coh_'+regions[i][1]+'_'+regions[j][1]] = np.array(coh_list)\n",
    "            df_ft_plv_loc[str_freq_rr[_freq]+'_plv_'+regions[i][1]+'_'+regions[j][1]] = np.array(plv_list)   \n",
    "    #print(len(df_ft_plv_loc.columns))\n",
    "    "
   ]
  },
  {
   "cell_type": "code",
   "execution_count": null,
   "id": "e75f7980",
   "metadata": {
    "scrolled": false
   },
   "outputs": [],
   "source": [
    "# Special coherence & PLV features\n",
    "\n",
    "df_ft_coh_ind = pd.DataFrame()\n",
    "df_ft_plv_ind = pd.DataFrame()\n",
    "df_ft_coh_ind_loc = pd.DataFrame()\n",
    "df_ft_plv_ind_loc = pd.DataFrame()\n",
    "df_ft_coh_ind_all = pd.DataFrame()\n",
    "df_ft_plv_ind_all = pd.DataFrame()\n",
    "\n",
    "for _freq in range(n_freq):  # frequency band\n",
    "    # By channel pairs\n",
    "    for _ch in range(n_channels):  # channel\n",
    "        # Coherence\n",
    "        ch_cols = [col for col in df_ft_coh.columns if col.startswith(str_freq_rr[_freq]) and (ch_names[_ch] in col)]\n",
    "        for threshold in [0.6, 0.7, 0.8]:\n",
    "            df_ft_coh_ind[str_freq_rr[_freq] + '_coh_' + ch_names[_ch] + f'_0{threshold * 10}'] = (\n",
    "                    df_ft_coh[ch_cols] >= threshold).sum(axis=1)\n",
    "            \n",
    "        # PLV\n",
    "        ch_cols = [col for col in df_ft_plv.columns if col.startswith(str_freq_rr[_freq]) and (ch_names[_ch] in col)]\n",
    "        for threshold in [0.6, 0.7, 0.8]:\n",
    "            df_ft_plv_ind[str_freq_rr[_freq] + '_plv_' + ch_names[_ch] + f'_0{threshold * 10}'] = (\n",
    "                    df_ft_plv[ch_cols] >= threshold).sum(axis=1)\n",
    "\n",
    "#     By region\n",
    "    for _reg in range(n_regions):\n",
    "        for threshold_delim in ['06', '07', '08']:\n",
    "            # Coherence\n",
    "            reg_cols = [col for col in df_ft_coh_ind.columns if any(ch in col for ch in regions[_reg][0]) and\n",
    "                        col.startswith(str_freq_rr[_freq]) and (threshold_delim in col)]\n",
    "            df_ft_coh_ind_loc[str_freq_rr[_freq] + '_coh_' + regions[_reg][1] + '_'+ threshold_delim] = df_ft_coh_ind[\n",
    "                reg_cols].mean(axis=1)\n",
    "\n",
    "            # PLV\n",
    "            reg_cols = [col for col in df_ft_plv_ind.columns if any(ch in col for ch in regions[_reg][0]) and\n",
    "                        col.startswith(str_freq_rr[_freq]) and (threshold_delim in col)]\n",
    "            df_ft_plv_ind_loc[str_freq_rr[_freq] + '_plv_' + regions[_reg][1] + '_' + threshold_delim] = df_ft_plv_ind[\n",
    "                reg_cols].mean(axis=1)\n",
    "\n",
    "    # Averaged by all channels\n",
    "    for threshold_delim in ['06', '07', '08']:\n",
    "        # Coherence\n",
    "        reg_cols = [col for col in df_ft_coh_ind.columns if\n",
    "                    col.startswith(str_freq_rr[_freq]) and (threshold_delim in col)]\n",
    "        df_ft_coh_ind_all[str_freq_rr[_freq] + '_coh_all_' + threshold_delim] = df_ft_coh_ind[reg_cols].mean(axis=1)\n",
    "        \n",
    "        # PLV\n",
    "        reg_cols = [col for col in df_ft_plv_ind.columns if\n",
    "                    col.startswith(str_freq_rr[_freq]) and (threshold_delim in col)]\n",
    "        df_ft_plv_ind_all[str_freq_rr[_freq] + '_plv_all_' + threshold_delim] = df_ft_plv_ind[reg_cols].mean(axis=1)\n",
    "\n",
    "\n",
    "display(df_ft_coh_ind_all)\n"
   ]
  },
  {
   "cell_type": "markdown",
   "id": "050cc40b",
   "metadata": {},
   "source": [
    "# Saving data"
   ]
  },
  {
   "cell_type": "code",
   "execution_count": null,
   "id": "03858dc1",
   "metadata": {},
   "outputs": [],
   "source": [
    "# Saving epochs\n",
    "\n",
    "sec5_epochs.save(os.path.join(ft_dir_path, 'epochs.fif'), overwrite=True)\n",
    "print(sec5_epochs.get_data().shape)\n"
   ]
  },
  {
   "cell_type": "code",
   "execution_count": null,
   "id": "9b27d58d",
   "metadata": {},
   "outputs": [],
   "source": [
    "# Saving main features DataFrames\n",
    "\n",
    "print(ft_dir_path)\n",
    "ft_dir_path = '/home/lipperrdino/verenv/features'\n",
    "df_ft_psd_loc_db.to_feather(os.path.join(ft_dir_path, 'df_ft_psd_loc_db.feather'))\n",
    "df_ft_psd_all_db.to_feather(os.path.join(ft_dir_path, 'df_ft_psd_all_db.feather'))\n",
    "df_ft_psd_ind_loc_log.to_feather(os.path.join(ft_dir_path, 'df_ft_psd_ind_loc_log.feather'))\n",
    "df_ft_psd_ind_all_log.to_feather(os.path.join(ft_dir_path, 'df_ft_psd_ind_all_log.feather'))\n",
    "\n",
    "df_ft_coh.to_feather(os.path.join(ft_dir_path, 'df_ft_coh.feather'))\n",
    "df_ft_plv.to_feather(os.path.join(ft_dir_path, 'df_ft_plv.feather'))\n",
    "df_ft_coh_loc.to_feather(os.path.join(ft_dir_path, 'df_ft_coh_loc.feather'))\n",
    "df_ft_plv_loc.to_feather(os.path.join(ft_dir_path, 'df_ft_plv_loc.feather'))\n",
    "\n",
    "df_ft_coh_ind_loc.to_feather(os.path.join(ft_dir_path, 'df_ft_coh_ind_loc.feather'))\n",
    "df_ft_plv_ind_loc.to_feather(os.path.join(ft_dir_path, 'df_ft_plv_ind_loc.feather'))\n",
    "df_ft_coh_ind_all.to_feather(os.path.join(ft_dir_path, 'df_ft_coh_ind_all.feather'))\n",
    "df_ft_plv_ind_all.to_feather(os.path.join(ft_dir_path, 'df_ft_plv_ind_all.feather'))"
   ]
  }
 ],
 "metadata": {
  "kernelspec": {
   "display_name": "Python 3",
   "language": "python",
   "name": "python3"
  },
  "language_info": {
   "codemirror_mode": {
    "name": "ipython",
    "version": 3
   },
   "file_extension": ".py",
   "mimetype": "text/x-python",
   "name": "python",
   "nbconvert_exporter": "python",
   "pygments_lexer": "ipython3",
   "version": "3.8.8"
  }
 },
 "nbformat": 4,
 "nbformat_minor": 5
}
